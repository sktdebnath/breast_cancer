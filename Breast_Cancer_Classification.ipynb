{
  "nbformat": 4,
  "nbformat_minor": 0,
  "metadata": {
    "colab": {
      "provenance": [],
      "collapsed_sections": []
    },
    "kernelspec": {
      "name": "python3",
      "display_name": "Python 3"
    },
    "language_info": {
      "name": "python"
    }
  },
  "cells": [
    {
      "cell_type": "code",
      "execution_count": 1,
      "metadata": {
        "id": "aYLTVcjI2TRC"
      },
      "outputs": [],
      "source": [
        "# Importing Libraries\n",
        "import numpy as np\n",
        "import pandas as pd"
      ]
    },
    {
      "cell_type": "code",
      "source": [
        "# Read the dataset\n",
        "df = pd.read_csv(\"cancer.csv\")\n",
        "\n",
        "# Unnamed 32 is an unnecessary feature with no data point\n",
        "# id is unique for all the patient and should not be used as a feature\n",
        "# So, I will drop these columns\n",
        "df = df.drop([\"id\",\"Unnamed: 32\"], axis=1)"
      ],
      "metadata": {
        "id": "a_HmYE8f2k1Y"
      },
      "execution_count": 2,
      "outputs": []
    },
    {
      "cell_type": "code",
      "source": [
        "df.info()"
      ],
      "metadata": {
        "colab": {
          "base_uri": "https://localhost:8080/"
        },
        "id": "XZPOVQwr2rK1",
        "outputId": "51990c2f-1b4f-44a3-bdec-ad2702dcf981"
      },
      "execution_count": 3,
      "outputs": [
        {
          "output_type": "stream",
          "name": "stdout",
          "text": [
            "<class 'pandas.core.frame.DataFrame'>\n",
            "RangeIndex: 569 entries, 0 to 568\n",
            "Data columns (total 31 columns):\n",
            " #   Column                   Non-Null Count  Dtype  \n",
            "---  ------                   --------------  -----  \n",
            " 0   diagnosis                569 non-null    object \n",
            " 1   radius_mean              569 non-null    float64\n",
            " 2   texture_mean             569 non-null    float64\n",
            " 3   perimeter_mean           569 non-null    float64\n",
            " 4   area_mean                569 non-null    float64\n",
            " 5   smoothness_mean          569 non-null    float64\n",
            " 6   compactness_mean         569 non-null    float64\n",
            " 7   concavity_mean           569 non-null    float64\n",
            " 8   concave points_mean      569 non-null    float64\n",
            " 9   symmetry_mean            569 non-null    float64\n",
            " 10  fractal_dimension_mean   569 non-null    float64\n",
            " 11  radius_se                569 non-null    float64\n",
            " 12  texture_se               569 non-null    float64\n",
            " 13  perimeter_se             569 non-null    float64\n",
            " 14  area_se                  569 non-null    float64\n",
            " 15  smoothness_se            569 non-null    float64\n",
            " 16  compactness_se           569 non-null    float64\n",
            " 17  concavity_se             569 non-null    float64\n",
            " 18  concave points_se        569 non-null    float64\n",
            " 19  symmetry_se              569 non-null    float64\n",
            " 20  fractal_dimension_se     569 non-null    float64\n",
            " 21  radius_worst             569 non-null    float64\n",
            " 22  texture_worst            569 non-null    float64\n",
            " 23  perimeter_worst          569 non-null    float64\n",
            " 24  area_worst               569 non-null    float64\n",
            " 25  smoothness_worst         569 non-null    float64\n",
            " 26  compactness_worst        569 non-null    float64\n",
            " 27  concavity_worst          569 non-null    float64\n",
            " 28  concave points_worst     569 non-null    float64\n",
            " 29  symmetry_worst           569 non-null    float64\n",
            " 30  fractal_dimension_worst  569 non-null    float64\n",
            "dtypes: float64(30), object(1)\n",
            "memory usage: 137.9+ KB\n"
          ]
        }
      ]
    },
    {
      "cell_type": "code",
      "source": [
        "# Diagnosis is a string column\n",
        "# All other columns are float\n",
        "# No null value is present."
      ],
      "metadata": {
        "id": "R0X0Wi8ts3hh"
      },
      "execution_count": null,
      "outputs": []
    },
    {
      "cell_type": "code",
      "source": [
        "# Displaying all columns\n",
        "pd.set_option('display.max_columns', None)"
      ],
      "metadata": {
        "id": "rm4ug5H_3OW3"
      },
      "execution_count": 4,
      "outputs": []
    },
    {
      "cell_type": "code",
      "source": [
        "# Check out the first few data points\n",
        "df.head()"
      ],
      "metadata": {
        "colab": {
          "base_uri": "https://localhost:8080/",
          "height": 287
        },
        "id": "J7OakS1z20DV",
        "outputId": "b707fb23-3bdd-49fa-edf0-13983d7bed3f"
      },
      "execution_count": 5,
      "outputs": [
        {
          "output_type": "execute_result",
          "data": {
            "text/plain": [
              "  diagnosis  radius_mean  texture_mean  perimeter_mean  area_mean  \\\n",
              "0         M        17.99         10.38          122.80     1001.0   \n",
              "1         M        20.57         17.77          132.90     1326.0   \n",
              "2         M        19.69         21.25          130.00     1203.0   \n",
              "3         M        11.42         20.38           77.58      386.1   \n",
              "4         M        20.29         14.34          135.10     1297.0   \n",
              "\n",
              "   smoothness_mean  compactness_mean  concavity_mean  concave points_mean  \\\n",
              "0          0.11840           0.27760          0.3001              0.14710   \n",
              "1          0.08474           0.07864          0.0869              0.07017   \n",
              "2          0.10960           0.15990          0.1974              0.12790   \n",
              "3          0.14250           0.28390          0.2414              0.10520   \n",
              "4          0.10030           0.13280          0.1980              0.10430   \n",
              "\n",
              "   symmetry_mean  fractal_dimension_mean  radius_se  texture_se  perimeter_se  \\\n",
              "0         0.2419                 0.07871     1.0950      0.9053         8.589   \n",
              "1         0.1812                 0.05667     0.5435      0.7339         3.398   \n",
              "2         0.2069                 0.05999     0.7456      0.7869         4.585   \n",
              "3         0.2597                 0.09744     0.4956      1.1560         3.445   \n",
              "4         0.1809                 0.05883     0.7572      0.7813         5.438   \n",
              "\n",
              "   area_se  smoothness_se  compactness_se  concavity_se  concave points_se  \\\n",
              "0   153.40       0.006399         0.04904       0.05373            0.01587   \n",
              "1    74.08       0.005225         0.01308       0.01860            0.01340   \n",
              "2    94.03       0.006150         0.04006       0.03832            0.02058   \n",
              "3    27.23       0.009110         0.07458       0.05661            0.01867   \n",
              "4    94.44       0.011490         0.02461       0.05688            0.01885   \n",
              "\n",
              "   symmetry_se  fractal_dimension_se  radius_worst  texture_worst  \\\n",
              "0      0.03003              0.006193         25.38          17.33   \n",
              "1      0.01389              0.003532         24.99          23.41   \n",
              "2      0.02250              0.004571         23.57          25.53   \n",
              "3      0.05963              0.009208         14.91          26.50   \n",
              "4      0.01756              0.005115         22.54          16.67   \n",
              "\n",
              "   perimeter_worst  area_worst  smoothness_worst  compactness_worst  \\\n",
              "0           184.60      2019.0            0.1622             0.6656   \n",
              "1           158.80      1956.0            0.1238             0.1866   \n",
              "2           152.50      1709.0            0.1444             0.4245   \n",
              "3            98.87       567.7            0.2098             0.8663   \n",
              "4           152.20      1575.0            0.1374             0.2050   \n",
              "\n",
              "   concavity_worst  concave points_worst  symmetry_worst  \\\n",
              "0           0.7119                0.2654          0.4601   \n",
              "1           0.2416                0.1860          0.2750   \n",
              "2           0.4504                0.2430          0.3613   \n",
              "3           0.6869                0.2575          0.6638   \n",
              "4           0.4000                0.1625          0.2364   \n",
              "\n",
              "   fractal_dimension_worst  \n",
              "0                  0.11890  \n",
              "1                  0.08902  \n",
              "2                  0.08758  \n",
              "3                  0.17300  \n",
              "4                  0.07678  "
            ],
            "text/html": [
              "\n",
              "  <div id=\"df-9269ef59-986b-46fa-a68c-3499e93bcdd2\">\n",
              "    <div class=\"colab-df-container\">\n",
              "      <div>\n",
              "<style scoped>\n",
              "    .dataframe tbody tr th:only-of-type {\n",
              "        vertical-align: middle;\n",
              "    }\n",
              "\n",
              "    .dataframe tbody tr th {\n",
              "        vertical-align: top;\n",
              "    }\n",
              "\n",
              "    .dataframe thead th {\n",
              "        text-align: right;\n",
              "    }\n",
              "</style>\n",
              "<table border=\"1\" class=\"dataframe\">\n",
              "  <thead>\n",
              "    <tr style=\"text-align: right;\">\n",
              "      <th></th>\n",
              "      <th>diagnosis</th>\n",
              "      <th>radius_mean</th>\n",
              "      <th>texture_mean</th>\n",
              "      <th>perimeter_mean</th>\n",
              "      <th>area_mean</th>\n",
              "      <th>smoothness_mean</th>\n",
              "      <th>compactness_mean</th>\n",
              "      <th>concavity_mean</th>\n",
              "      <th>concave points_mean</th>\n",
              "      <th>symmetry_mean</th>\n",
              "      <th>fractal_dimension_mean</th>\n",
              "      <th>radius_se</th>\n",
              "      <th>texture_se</th>\n",
              "      <th>perimeter_se</th>\n",
              "      <th>area_se</th>\n",
              "      <th>smoothness_se</th>\n",
              "      <th>compactness_se</th>\n",
              "      <th>concavity_se</th>\n",
              "      <th>concave points_se</th>\n",
              "      <th>symmetry_se</th>\n",
              "      <th>fractal_dimension_se</th>\n",
              "      <th>radius_worst</th>\n",
              "      <th>texture_worst</th>\n",
              "      <th>perimeter_worst</th>\n",
              "      <th>area_worst</th>\n",
              "      <th>smoothness_worst</th>\n",
              "      <th>compactness_worst</th>\n",
              "      <th>concavity_worst</th>\n",
              "      <th>concave points_worst</th>\n",
              "      <th>symmetry_worst</th>\n",
              "      <th>fractal_dimension_worst</th>\n",
              "    </tr>\n",
              "  </thead>\n",
              "  <tbody>\n",
              "    <tr>\n",
              "      <th>0</th>\n",
              "      <td>M</td>\n",
              "      <td>17.99</td>\n",
              "      <td>10.38</td>\n",
              "      <td>122.80</td>\n",
              "      <td>1001.0</td>\n",
              "      <td>0.11840</td>\n",
              "      <td>0.27760</td>\n",
              "      <td>0.3001</td>\n",
              "      <td>0.14710</td>\n",
              "      <td>0.2419</td>\n",
              "      <td>0.07871</td>\n",
              "      <td>1.0950</td>\n",
              "      <td>0.9053</td>\n",
              "      <td>8.589</td>\n",
              "      <td>153.40</td>\n",
              "      <td>0.006399</td>\n",
              "      <td>0.04904</td>\n",
              "      <td>0.05373</td>\n",
              "      <td>0.01587</td>\n",
              "      <td>0.03003</td>\n",
              "      <td>0.006193</td>\n",
              "      <td>25.38</td>\n",
              "      <td>17.33</td>\n",
              "      <td>184.60</td>\n",
              "      <td>2019.0</td>\n",
              "      <td>0.1622</td>\n",
              "      <td>0.6656</td>\n",
              "      <td>0.7119</td>\n",
              "      <td>0.2654</td>\n",
              "      <td>0.4601</td>\n",
              "      <td>0.11890</td>\n",
              "    </tr>\n",
              "    <tr>\n",
              "      <th>1</th>\n",
              "      <td>M</td>\n",
              "      <td>20.57</td>\n",
              "      <td>17.77</td>\n",
              "      <td>132.90</td>\n",
              "      <td>1326.0</td>\n",
              "      <td>0.08474</td>\n",
              "      <td>0.07864</td>\n",
              "      <td>0.0869</td>\n",
              "      <td>0.07017</td>\n",
              "      <td>0.1812</td>\n",
              "      <td>0.05667</td>\n",
              "      <td>0.5435</td>\n",
              "      <td>0.7339</td>\n",
              "      <td>3.398</td>\n",
              "      <td>74.08</td>\n",
              "      <td>0.005225</td>\n",
              "      <td>0.01308</td>\n",
              "      <td>0.01860</td>\n",
              "      <td>0.01340</td>\n",
              "      <td>0.01389</td>\n",
              "      <td>0.003532</td>\n",
              "      <td>24.99</td>\n",
              "      <td>23.41</td>\n",
              "      <td>158.80</td>\n",
              "      <td>1956.0</td>\n",
              "      <td>0.1238</td>\n",
              "      <td>0.1866</td>\n",
              "      <td>0.2416</td>\n",
              "      <td>0.1860</td>\n",
              "      <td>0.2750</td>\n",
              "      <td>0.08902</td>\n",
              "    </tr>\n",
              "    <tr>\n",
              "      <th>2</th>\n",
              "      <td>M</td>\n",
              "      <td>19.69</td>\n",
              "      <td>21.25</td>\n",
              "      <td>130.00</td>\n",
              "      <td>1203.0</td>\n",
              "      <td>0.10960</td>\n",
              "      <td>0.15990</td>\n",
              "      <td>0.1974</td>\n",
              "      <td>0.12790</td>\n",
              "      <td>0.2069</td>\n",
              "      <td>0.05999</td>\n",
              "      <td>0.7456</td>\n",
              "      <td>0.7869</td>\n",
              "      <td>4.585</td>\n",
              "      <td>94.03</td>\n",
              "      <td>0.006150</td>\n",
              "      <td>0.04006</td>\n",
              "      <td>0.03832</td>\n",
              "      <td>0.02058</td>\n",
              "      <td>0.02250</td>\n",
              "      <td>0.004571</td>\n",
              "      <td>23.57</td>\n",
              "      <td>25.53</td>\n",
              "      <td>152.50</td>\n",
              "      <td>1709.0</td>\n",
              "      <td>0.1444</td>\n",
              "      <td>0.4245</td>\n",
              "      <td>0.4504</td>\n",
              "      <td>0.2430</td>\n",
              "      <td>0.3613</td>\n",
              "      <td>0.08758</td>\n",
              "    </tr>\n",
              "    <tr>\n",
              "      <th>3</th>\n",
              "      <td>M</td>\n",
              "      <td>11.42</td>\n",
              "      <td>20.38</td>\n",
              "      <td>77.58</td>\n",
              "      <td>386.1</td>\n",
              "      <td>0.14250</td>\n",
              "      <td>0.28390</td>\n",
              "      <td>0.2414</td>\n",
              "      <td>0.10520</td>\n",
              "      <td>0.2597</td>\n",
              "      <td>0.09744</td>\n",
              "      <td>0.4956</td>\n",
              "      <td>1.1560</td>\n",
              "      <td>3.445</td>\n",
              "      <td>27.23</td>\n",
              "      <td>0.009110</td>\n",
              "      <td>0.07458</td>\n",
              "      <td>0.05661</td>\n",
              "      <td>0.01867</td>\n",
              "      <td>0.05963</td>\n",
              "      <td>0.009208</td>\n",
              "      <td>14.91</td>\n",
              "      <td>26.50</td>\n",
              "      <td>98.87</td>\n",
              "      <td>567.7</td>\n",
              "      <td>0.2098</td>\n",
              "      <td>0.8663</td>\n",
              "      <td>0.6869</td>\n",
              "      <td>0.2575</td>\n",
              "      <td>0.6638</td>\n",
              "      <td>0.17300</td>\n",
              "    </tr>\n",
              "    <tr>\n",
              "      <th>4</th>\n",
              "      <td>M</td>\n",
              "      <td>20.29</td>\n",
              "      <td>14.34</td>\n",
              "      <td>135.10</td>\n",
              "      <td>1297.0</td>\n",
              "      <td>0.10030</td>\n",
              "      <td>0.13280</td>\n",
              "      <td>0.1980</td>\n",
              "      <td>0.10430</td>\n",
              "      <td>0.1809</td>\n",
              "      <td>0.05883</td>\n",
              "      <td>0.7572</td>\n",
              "      <td>0.7813</td>\n",
              "      <td>5.438</td>\n",
              "      <td>94.44</td>\n",
              "      <td>0.011490</td>\n",
              "      <td>0.02461</td>\n",
              "      <td>0.05688</td>\n",
              "      <td>0.01885</td>\n",
              "      <td>0.01756</td>\n",
              "      <td>0.005115</td>\n",
              "      <td>22.54</td>\n",
              "      <td>16.67</td>\n",
              "      <td>152.20</td>\n",
              "      <td>1575.0</td>\n",
              "      <td>0.1374</td>\n",
              "      <td>0.2050</td>\n",
              "      <td>0.4000</td>\n",
              "      <td>0.1625</td>\n",
              "      <td>0.2364</td>\n",
              "      <td>0.07678</td>\n",
              "    </tr>\n",
              "  </tbody>\n",
              "</table>\n",
              "</div>\n",
              "      <button class=\"colab-df-convert\" onclick=\"convertToInteractive('df-9269ef59-986b-46fa-a68c-3499e93bcdd2')\"\n",
              "              title=\"Convert this dataframe to an interactive table.\"\n",
              "              style=\"display:none;\">\n",
              "        \n",
              "  <svg xmlns=\"http://www.w3.org/2000/svg\" height=\"24px\"viewBox=\"0 0 24 24\"\n",
              "       width=\"24px\">\n",
              "    <path d=\"M0 0h24v24H0V0z\" fill=\"none\"/>\n",
              "    <path d=\"M18.56 5.44l.94 2.06.94-2.06 2.06-.94-2.06-.94-.94-2.06-.94 2.06-2.06.94zm-11 1L8.5 8.5l.94-2.06 2.06-.94-2.06-.94L8.5 2.5l-.94 2.06-2.06.94zm10 10l.94 2.06.94-2.06 2.06-.94-2.06-.94-.94-2.06-.94 2.06-2.06.94z\"/><path d=\"M17.41 7.96l-1.37-1.37c-.4-.4-.92-.59-1.43-.59-.52 0-1.04.2-1.43.59L10.3 9.45l-7.72 7.72c-.78.78-.78 2.05 0 2.83L4 21.41c.39.39.9.59 1.41.59.51 0 1.02-.2 1.41-.59l7.78-7.78 2.81-2.81c.8-.78.8-2.07 0-2.86zM5.41 20L4 18.59l7.72-7.72 1.47 1.35L5.41 20z\"/>\n",
              "  </svg>\n",
              "      </button>\n",
              "      \n",
              "  <style>\n",
              "    .colab-df-container {\n",
              "      display:flex;\n",
              "      flex-wrap:wrap;\n",
              "      gap: 12px;\n",
              "    }\n",
              "\n",
              "    .colab-df-convert {\n",
              "      background-color: #E8F0FE;\n",
              "      border: none;\n",
              "      border-radius: 50%;\n",
              "      cursor: pointer;\n",
              "      display: none;\n",
              "      fill: #1967D2;\n",
              "      height: 32px;\n",
              "      padding: 0 0 0 0;\n",
              "      width: 32px;\n",
              "    }\n",
              "\n",
              "    .colab-df-convert:hover {\n",
              "      background-color: #E2EBFA;\n",
              "      box-shadow: 0px 1px 2px rgba(60, 64, 67, 0.3), 0px 1px 3px 1px rgba(60, 64, 67, 0.15);\n",
              "      fill: #174EA6;\n",
              "    }\n",
              "\n",
              "    [theme=dark] .colab-df-convert {\n",
              "      background-color: #3B4455;\n",
              "      fill: #D2E3FC;\n",
              "    }\n",
              "\n",
              "    [theme=dark] .colab-df-convert:hover {\n",
              "      background-color: #434B5C;\n",
              "      box-shadow: 0px 1px 3px 1px rgba(0, 0, 0, 0.15);\n",
              "      filter: drop-shadow(0px 1px 2px rgba(0, 0, 0, 0.3));\n",
              "      fill: #FFFFFF;\n",
              "    }\n",
              "  </style>\n",
              "\n",
              "      <script>\n",
              "        const buttonEl =\n",
              "          document.querySelector('#df-9269ef59-986b-46fa-a68c-3499e93bcdd2 button.colab-df-convert');\n",
              "        buttonEl.style.display =\n",
              "          google.colab.kernel.accessAllowed ? 'block' : 'none';\n",
              "\n",
              "        async function convertToInteractive(key) {\n",
              "          const element = document.querySelector('#df-9269ef59-986b-46fa-a68c-3499e93bcdd2');\n",
              "          const dataTable =\n",
              "            await google.colab.kernel.invokeFunction('convertToInteractive',\n",
              "                                                     [key], {});\n",
              "          if (!dataTable) return;\n",
              "\n",
              "          const docLinkHtml = 'Like what you see? Visit the ' +\n",
              "            '<a target=\"_blank\" href=https://colab.research.google.com/notebooks/data_table.ipynb>data table notebook</a>'\n",
              "            + ' to learn more about interactive tables.';\n",
              "          element.innerHTML = '';\n",
              "          dataTable['output_type'] = 'display_data';\n",
              "          await google.colab.output.renderOutput(dataTable, element);\n",
              "          const docLink = document.createElement('div');\n",
              "          docLink.innerHTML = docLinkHtml;\n",
              "          element.appendChild(docLink);\n",
              "        }\n",
              "      </script>\n",
              "    </div>\n",
              "  </div>\n",
              "  "
            ]
          },
          "metadata": {},
          "execution_count": 5
        }
      ]
    },
    {
      "cell_type": "code",
      "source": [
        "# As we can see, \"diagnosis\" is our target column.\n",
        "# We need to label encode this column.\n",
        "# All other columns are our features."
      ],
      "metadata": {
        "id": "9fEYPFW73A6L"
      },
      "execution_count": null,
      "outputs": []
    },
    {
      "cell_type": "code",
      "source": [
        "# Check column names\n",
        "df.columns"
      ],
      "metadata": {
        "colab": {
          "base_uri": "https://localhost:8080/"
        },
        "id": "VEGj5xS431j5",
        "outputId": "456e135d-9af5-4971-db9c-bb9462efb9e5"
      },
      "execution_count": 6,
      "outputs": [
        {
          "output_type": "execute_result",
          "data": {
            "text/plain": [
              "Index(['diagnosis', 'radius_mean', 'texture_mean', 'perimeter_mean',\n",
              "       'area_mean', 'smoothness_mean', 'compactness_mean', 'concavity_mean',\n",
              "       'concave points_mean', 'symmetry_mean', 'fractal_dimension_mean',\n",
              "       'radius_se', 'texture_se', 'perimeter_se', 'area_se', 'smoothness_se',\n",
              "       'compactness_se', 'concavity_se', 'concave points_se', 'symmetry_se',\n",
              "       'fractal_dimension_se', 'radius_worst', 'texture_worst',\n",
              "       'perimeter_worst', 'area_worst', 'smoothness_worst',\n",
              "       'compactness_worst', 'concavity_worst', 'concave points_worst',\n",
              "       'symmetry_worst', 'fractal_dimension_worst'],\n",
              "      dtype='object')"
            ]
          },
          "metadata": {},
          "execution_count": 6
        }
      ]
    },
    {
      "cell_type": "code",
      "source": [
        "# Visualising feature importance with bar plot\n",
        "# I have plotted bar plots for different features\n",
        "# In the x axis we have two diagnosis classes, Benign and Malignant\n",
        "# y axis represent the mean of the feature corresponding to the class\n",
        "import matplotlib.pyplot as plt\n",
        "import seaborn as sns\n",
        "\n",
        "fig, ax =plt.subplots(10,3, figsize=(8,24))\n",
        "fig.subplots_adjust(wspace=0.5)\n",
        "# Row 1\n",
        "sns.barplot(x=\"diagnosis\", y=\"radius_mean\",  data =df, ax=ax[0,0])\n",
        "sns.barplot(x=\"diagnosis\", y=\"radius_se\",    data =df, ax=ax[0,1])\n",
        "sns.barplot(x=\"diagnosis\", y=\"radius_worst\", data =df, ax=ax[0,2])\n",
        "\n",
        "# Row 2\n",
        "sns.barplot(x=\"diagnosis\", y=\"texture_mean\",  data =df, ax=ax[1,0])\n",
        "sns.barplot(x=\"diagnosis\", y=\"texture_se\",    data =df, ax=ax[1,1])\n",
        "sns.barplot(x=\"diagnosis\", y=\"texture_worst\", data =df, ax=ax[1,2])\n",
        "\n",
        "# Row 3\n",
        "sns.barplot(x=\"diagnosis\", y=\"perimeter_mean\",  data =df, ax=ax[2,0])\n",
        "sns.barplot(x=\"diagnosis\", y=\"perimeter_se\",    data =df, ax=ax[2,1])\n",
        "sns.barplot(x=\"diagnosis\", y=\"perimeter_worst\", data =df, ax=ax[2,2])\n",
        "\n",
        "# Row 4\n",
        "sns.barplot(x=\"diagnosis\", y=\"area_mean\",  data =df, ax=ax[3,0])\n",
        "sns.barplot(x=\"diagnosis\", y=\"area_se\",    data =df, ax=ax[3,1])\n",
        "sns.barplot(x=\"diagnosis\", y=\"area_worst\", data =df, ax=ax[3,2])\n",
        "\n",
        "# Row 5\n",
        "sns.barplot(x=\"diagnosis\", y=\"smoothness_mean\",  data =df, ax=ax[4,0])\n",
        "sns.barplot(x=\"diagnosis\", y=\"smoothness_se\",    data =df, ax=ax[4,1])\n",
        "sns.barplot(x=\"diagnosis\", y=\"smoothness_worst\", data =df, ax=ax[4,2])\n",
        "\n",
        "# Row 6\n",
        "sns.barplot(x=\"diagnosis\", y=\"compactness_mean\",  data =df, ax=ax[5,0])\n",
        "sns.barplot(x=\"diagnosis\", y=\"compactness_se\",    data =df, ax=ax[5,1])\n",
        "sns.barplot(x=\"diagnosis\", y=\"compactness_worst\", data =df, ax=ax[5,2])\n",
        "\n",
        "# Row 7\n",
        "sns.barplot(x=\"diagnosis\", y=\"concavity_mean\",  data =df, ax=ax[6,0])\n",
        "sns.barplot(x=\"diagnosis\", y=\"concavity_se\",    data =df, ax=ax[6,1])\n",
        "sns.barplot(x=\"diagnosis\", y=\"concavity_worst\", data =df, ax=ax[6,2])\n",
        "\n",
        "# Row 8\n",
        "sns.barplot(x=\"diagnosis\", y=\"concave points_mean\",  data =df, ax=ax[7,0])\n",
        "sns.barplot(x=\"diagnosis\", y=\"concave points_se\",    data =df, ax=ax[7,1])\n",
        "sns.barplot(x=\"diagnosis\", y=\"concave points_worst\", data =df, ax=ax[7,2])\n",
        "\n",
        "# Row 9\n",
        "sns.barplot(x=\"diagnosis\", y=\"symmetry_mean\",  data =df, ax=ax[8,0])\n",
        "sns.barplot(x=\"diagnosis\", y=\"symmetry_se\",    data =df, ax=ax[8,1])\n",
        "sns.barplot(x=\"diagnosis\", y=\"symmetry_worst\", data =df, ax=ax[8,2])\n",
        "\n",
        "# Row 10\n",
        "sns.barplot(x=\"diagnosis\", y=\"fractal_dimension_mean\",  data =df, ax=ax[9,0])\n",
        "sns.barplot(x=\"diagnosis\", y=\"fractal_dimension_se\",    data =df, ax=ax[9,1])\n",
        "sns.barplot(x=\"diagnosis\", y=\"fractal_dimension_worst\", data =df, ax=ax[9,2])"
      ],
      "metadata": {
        "colab": {
          "base_uri": "https://localhost:8080/",
          "height": 1000
        },
        "id": "SjukTWR_7iJ_",
        "outputId": "fdd2cbae-d997-4e46-d3ba-d703d08679eb"
      },
      "execution_count": 7,
      "outputs": [
        {
          "output_type": "execute_result",
          "data": {
            "text/plain": [
              "<matplotlib.axes._subplots.AxesSubplot at 0x7f046814ee10>"
            ]
          },
          "metadata": {},
          "execution_count": 7
        },
        {
          "output_type": "display_data",
          "data": {
            "text/plain": [
              "<Figure size 576x1728 with 30 Axes>"
            ],
            "image/png": "[encoded data removed]"
          },
          "metadata": {
            "needs_background": "light"
          }
        }
      ]
    },
    {
      "cell_type": "code",
      "source": [
        "# Plot interpretation:\n",
        "##########################################################\n",
        "# Let's look at the bar plot corresponding to the\n",
        "# radius_mean\n",
        "# From the bar plot it is evident that the mean radius\n",
        "# corresponding to two different classes varies significantly.\n",
        "# Mean radius corresponding to the benign class is significantly smaller\n",
        "# than that of the malignant class. This makes sense.\n",
        "# As we know benign stage is the initial stage and we can expect smaller overall radius corresponding to the benign class.\n",
        "# So, \"radius_mean\" should be an important feature for this classification problem.\n",
        "\n",
        "# Now, let's look at the plot corresponding to \n",
        "# texture_se\n",
        "# There is no significant difference between the mean values corresponding to\n",
        "# two different classes. So, \"texture_se\" should not be an important class according to my visual analysis."
      ],
      "metadata": {
        "id": "mi3gZLVeut3W"
      },
      "execution_count": 9,
      "outputs": []
    },
    {
      "cell_type": "code",
      "source": [
        "# Again to substantiate the points mentioned above,\n",
        "# we can perform the chisqured test for feature importance"
      ],
      "metadata": {
        "id": "kBt2J57jwT_M"
      },
      "execution_count": 10,
      "outputs": []
    },
    {
      "cell_type": "code",
      "source": [
        "# Chi square test for feature selection\n",
        "from sklearn.feature_selection import chi2\n",
        "\n",
        "# Label Encoding Needed for chi2 module to work properly\n",
        "df.replace({\"diagnosis\": {\"B\":0,\"M\":1}}, inplace=True)\n",
        "\n",
        "X = df.drop('diagnosis',axis=1)\n",
        "y = df['diagnosis']\n",
        "chi_scores = chi2(X,y)\n",
        "p_val = pd.Series(chi_scores[1],index = X.columns)\n",
        "\n",
        "# Dependent features according to Chi-Squared Test\n",
        "# we are using 95% confidence interval for this test\n",
        "print(\"Important fetures are:\")\n",
        "print(\"-----------------------------------\")\n",
        "imp_features = []\n",
        "for col in X.columns:\n",
        "  if p_val.loc[col] <= 0.05:\n",
        "    print(col, \"p value:\", round(p_val.loc[col],3))\n",
        "    imp_features.append(col)"
      ],
      "metadata": {
        "colab": {
          "base_uri": "https://localhost:8080/"
        },
        "id": "m3qRt_IPisfc",
        "outputId": "65ff3015-750d-4cb4-93e5-127c39631f62"
      },
      "execution_count": 11,
      "outputs": [
        {
          "output_type": "stream",
          "name": "stdout",
          "text": [
            "Important fetures are:\n",
            "-----------------------------------\n",
            "radius_mean p value: 0.0\n",
            "texture_mean p value: 0.0\n",
            "perimeter_mean p value: 0.0\n",
            "area_mean p value: 0.0\n",
            "compactness_mean p value: 0.02\n",
            "concavity_mean p value: 0.0\n",
            "concave points_mean p value: 0.001\n",
            "radius_se p value: 0.0\n",
            "perimeter_se p value: 0.0\n",
            "area_se p value: 0.0\n",
            "radius_worst p value: 0.0\n",
            "texture_worst p value: 0.0\n",
            "perimeter_worst p value: 0.0\n",
            "area_worst p value: 0.0\n",
            "compactness_worst p value: 0.0\n",
            "concavity_worst p value: 0.0\n",
            "concave points_worst p value: 0.0\n"
          ]
        }
      ]
    },
    {
      "cell_type": "code",
      "source": [
        "len(imp_features)"
      ],
      "metadata": {
        "colab": {
          "base_uri": "https://localhost:8080/"
        },
        "id": "Lb0YB0CNORRG",
        "outputId": "9c4e7122-d506-4ca1-f069-8e3e3f29ff09"
      },
      "execution_count": 13,
      "outputs": [
        {
          "output_type": "execute_result",
          "data": {
            "text/plain": [
              "17"
            ]
          },
          "metadata": {},
          "execution_count": 13
        }
      ]
    },
    {
      "cell_type": "code",
      "source": [
        "# According to chi2 test, there are 17 important features\n",
        "# So, we will build the model with these 17 features"
      ],
      "metadata": {
        "id": "wNM3hwzeOYdx"
      },
      "execution_count": null,
      "outputs": []
    },
    {
      "cell_type": "code",
      "source": [
        "# Feature correlation analysis\n",
        "sns.heatmap(df.corr())"
      ],
      "metadata": {
        "colab": {
          "base_uri": "https://localhost:8080/",
          "height": 399
        },
        "id": "JSwFniGC5Pg0",
        "outputId": "ce350221-32d7-41fd-ff7d-9d52d540d960"
      },
      "execution_count": 59,
      "outputs": [
        {
          "output_type": "execute_result",
          "data": {
            "text/plain": [
              "<matplotlib.axes._subplots.AxesSubplot at 0x7f0457a996d0>"
            ]
          },
          "metadata": {},
          "execution_count": 59
        },
        {
          "output_type": "display_data",
          "data": {
            "text/plain": [
              "<Figure size 432x288 with 2 Axes>"
            ],
            "image/png": "[encoded data removed]"
          },
          "metadata": {
            "needs_background": "light"
          }
        }
      ]
    },
    {
      "cell_type": "code",
      "source": [
        "# Medical dataset could be highly imbalanced.\n",
        "# So, I will check for that.\n",
        "df[\"diagnosis\"].value_counts(normalize=True)*100"
      ],
      "metadata": {
        "colab": {
          "base_uri": "https://localhost:8080/"
        },
        "id": "nwxXkHNkCjEa",
        "outputId": "cd5c5b5a-6c2f-4a88-dfa4-36628cd6e1e3"
      },
      "execution_count": 14,
      "outputs": [
        {
          "output_type": "execute_result",
          "data": {
            "text/plain": [
              "0    62.741652\n",
              "1    37.258348\n",
              "Name: diagnosis, dtype: float64"
            ]
          },
          "metadata": {},
          "execution_count": 14
        }
      ]
    },
    {
      "cell_type": "code",
      "source": [
        "# Dataset contains 63% Benign (Class 0) and 37% (Class 1) Malignant classes\n",
        "# Though the Benign class contains higher fraction of data points\n",
        "# we can't say it truly imbalanced."
      ],
      "metadata": {
        "id": "aOfXd9oKMdy1"
      },
      "execution_count": null,
      "outputs": []
    },
    {
      "cell_type": "code",
      "source": [
        "# Model: I will use only the important featues from the chi2 analysis\n",
        "# Define Features and Target\n",
        "X = df[imp_features]\n",
        "y = df[\"diagnosis\"]\n",
        "X.shape, y.shape"
      ],
      "metadata": {
        "colab": {
          "base_uri": "https://localhost:8080/"
        },
        "id": "0gdY6S8QPu-k",
        "outputId": "924ee9a6-d495-4369-f9a1-07b06ddbfee2"
      },
      "execution_count": 15,
      "outputs": [
        {
          "output_type": "execute_result",
          "data": {
            "text/plain": [
              "((569, 17), (569,))"
            ]
          },
          "metadata": {},
          "execution_count": 15
        }
      ]
    },
    {
      "cell_type": "code",
      "source": [
        "# Splitting into train-test groups\n",
        "from sklearn.model_selection import train_test_split\n",
        "X_train, X_test, y_train, y_test = train_test_split(\n",
        "    X, y, test_size=.30, random_state=42)\n",
        "\n",
        "X_train.shape, X_test.shape"
      ],
      "metadata": {
        "colab": {
          "base_uri": "https://localhost:8080/"
        },
        "id": "6lHc0GwPQAJS",
        "outputId": "1b40b7c6-b771-471a-d5bc-df28d312b292"
      },
      "execution_count": 16,
      "outputs": [
        {
          "output_type": "execute_result",
          "data": {
            "text/plain": [
              "((398, 17), (171, 17))"
            ]
          },
          "metadata": {},
          "execution_count": 16
        }
      ]
    },
    {
      "cell_type": "code",
      "source": [
        "# Scaling all the features:\n",
        "# I will use Min Max Scaling here as some ML models don't accept negative values.\n",
        "from sklearn.preprocessing import MinMaxScaler\n",
        "scaler  = MinMaxScaler()\n",
        "X_train = scaler.fit_transform(X_train)\n",
        "X_test  = scaler.transform(X_test)"
      ],
      "metadata": {
        "id": "K32IvOTvQpCr"
      },
      "execution_count": 17,
      "outputs": []
    },
    {
      "cell_type": "code",
      "source": [
        "# All Classification Models\n",
        "from sklearn.linear_model import LogisticRegression\n",
        "from sklearn.svm import SVC\n",
        "from sklearn.naive_bayes import GaussianNB\n",
        "from sklearn.naive_bayes import MultinomialNB\n",
        "from sklearn.linear_model import SGDClassifier\n",
        "from sklearn.neighbors import KNeighborsClassifier\n",
        "from sklearn.tree import DecisionTreeClassifier\n",
        "from sklearn.ensemble import RandomForestClassifier\n",
        "from sklearn.ensemble import GradientBoostingClassifier\n",
        "from lightgbm import LGBMClassifier\n",
        "from xgboost.sklearn import XGBClassifier\n",
        "from sklearn.metrics  import accuracy_score\n",
        "from sklearn.metrics import roc_auc_score\n",
        "\n",
        "classifiers = [LogisticRegression(), SVC(), GaussianNB(), MultinomialNB(),\n",
        "               SGDClassifier(), KNeighborsClassifier(), DecisionTreeClassifier(),\n",
        "               RandomForestClassifier(), GradientBoostingClassifier(),\n",
        "               LGBMClassifier(), XGBClassifier()]\n",
        "\n",
        "model_stat = []\n",
        "for clf in classifiers:\n",
        "  model = clf\n",
        "  model.fit(X_train, y_train)\n",
        "  y_pred = model.predict(X_test)\n",
        "  model_stat.append([clf, round(roc_auc_score(y_pred,y_test),4)])"
      ],
      "metadata": {
        "id": "8GXAClNDQKHK"
      },
      "execution_count": 22,
      "outputs": []
    },
    {
      "cell_type": "code",
      "source": [
        "sorted(model_stat, key=lambda l:l[1], reverse= True)"
      ],
      "metadata": {
        "colab": {
          "base_uri": "https://localhost:8080/"
        },
        "id": "rLBbRoyVR8O4",
        "outputId": "461c7863-aa6f-4102-cea0-c3f636c90dc9"
      },
      "execution_count": 25,
      "outputs": [
        {
          "output_type": "execute_result",
          "data": {
            "text/plain": [
              "[[SVC(), 0.9749],\n",
              " [SGDClassifier(), 0.9737],\n",
              " [KNeighborsClassifier(), 0.9736],\n",
              " [RandomForestClassifier(), 0.9736],\n",
              " [XGBClassifier(), 0.9701],\n",
              " [LogisticRegression(), 0.9692],\n",
              " [LGBMClassifier(), 0.9654],\n",
              " [GradientBoostingClassifier(), 0.9497],\n",
              " [GaussianNB(), 0.9322],\n",
              " [DecisionTreeClassifier(), 0.9226],\n",
              " [MultinomialNB(), 0.8354]]"
            ]
          },
          "metadata": {},
          "execution_count": 25
        }
      ]
    },
    {
      "cell_type": "code",
      "source": [
        "# According to the results obtained above,\n",
        "# SVC, SGD, KNN, Random Forest and XGB have very similar AUROC values.\n",
        "# I will use hyper parameter tuning to further improve the model performance."
      ],
      "metadata": {
        "id": "PNpVIXboTPHS"
      },
      "execution_count": 26,
      "outputs": []
    },
    {
      "cell_type": "code",
      "source": [
        "# Find SVC default parameters\n",
        "from sklearn.svm import SVC\n",
        "model = SVC()\n",
        "model.fit(X_train, y_train)\n",
        "model.get_params()"
      ],
      "metadata": {
        "colab": {
          "base_uri": "https://localhost:8080/"
        },
        "id": "aQtaDdcVWPd7",
        "outputId": "bce588ab-61cb-4dba-bb52-cdeebe331e69"
      },
      "execution_count": 27,
      "outputs": [
        {
          "output_type": "execute_result",
          "data": {
            "text/plain": [
              "{'C': 1.0,\n",
              " 'break_ties': False,\n",
              " 'cache_size': 200,\n",
              " 'class_weight': None,\n",
              " 'coef0': 0.0,\n",
              " 'decision_function_shape': 'ovr',\n",
              " 'degree': 3,\n",
              " 'gamma': 'scale',\n",
              " 'kernel': 'rbf',\n",
              " 'max_iter': -1,\n",
              " 'probability': False,\n",
              " 'random_state': None,\n",
              " 'shrinking': True,\n",
              " 'tol': 0.001,\n",
              " 'verbose': False}"
            ]
          },
          "metadata": {},
          "execution_count": 27
        }
      ]
    },
    {
      "cell_type": "code",
      "source": [
        "# SVC Grid Search for hyper parameter tuning\n",
        "from sklearn.model_selection import GridSearchCV\n",
        "from sklearn.svm import SVC\n",
        "\n",
        "# Model hyperparameters\n",
        "gs_params = {'C':       [0.1, 1, 10, 100, 1000, 5000], \n",
        "              'gamma':  [1, 0.1, 0.01, 0.001, 0.0001],\n",
        "              'kernel': [\"linear\", \"poly\", \"rbf\", \"sigmoid\"]}\n",
        "\n",
        "# Initialize a RandomizedSearchCV object using 5-fold CV-\n",
        "gs_cv = GridSearchCV(estimator = SVC(), \n",
        "                     cv = 5, \n",
        "                     param_grid = gs_params)\n",
        "\n",
        "# Train on training data or SMOTEEN\n",
        "gs_cv.fit(X_train, y_train)\n",
        "\n",
        "# Print the best parameters\n",
        "print(gs_cv.best_params_)"
      ],
      "metadata": {
        "colab": {
          "base_uri": "https://localhost:8080/"
        },
        "id": "UdCoqWrgSUiy",
        "outputId": "d75f46b3-4f85-46f8-bbcb-4d4fb5db6ad9"
      },
      "execution_count": 34,
      "outputs": [
        {
          "output_type": "stream",
          "name": "stdout",
          "text": [
            "{'C': 1000, 'gamma': 0.1, 'kernel': 'rbf'}\n"
          ]
        }
      ]
    },
    {
      "cell_type": "code",
      "source": [
        "grid_pred = gs_cv.predict(X_test)\n",
        "print(\"AUROC:\", roc_auc_score(grid_pred,y_test))"
      ],
      "metadata": {
        "colab": {
          "base_uri": "https://localhost:8080/"
        },
        "id": "lLBDVofQniqA",
        "outputId": "04208713-0d6c-4ce0-edad-fc643b94d822"
      },
      "execution_count": 35,
      "outputs": [
        {
          "output_type": "stream",
          "name": "stdout",
          "text": [
            "AUROC: 0.9701094998520272\n"
          ]
        }
      ]
    },
    {
      "cell_type": "code",
      "source": [
        "# Our SVC Model has the best AUROC of 0.9701"
      ],
      "metadata": {
        "id": "OE4q9ujEYfYv"
      },
      "execution_count": null,
      "outputs": []
    },
    {
      "cell_type": "code",
      "source": [
        "# Checking Random Forest Model if we can achieve a better AUROC"
      ],
      "metadata": {
        "id": "A5e-RsUTYqs4"
      },
      "execution_count": null,
      "outputs": []
    },
    {
      "cell_type": "code",
      "source": [
        "# Random Forest Default Parameters\n",
        "from sklearn.ensemble import RandomForestClassifier\n",
        "model = RandomForestClassifier()\n",
        "model.fit(X_train, y_train)\n",
        "model.get_params()"
      ],
      "metadata": {
        "colab": {
          "base_uri": "https://localhost:8080/"
        },
        "id": "1t01TaeuY2RP",
        "outputId": "f8716d7d-194d-428e-ab61-ed4cef21a7d6"
      },
      "execution_count": 36,
      "outputs": [
        {
          "output_type": "execute_result",
          "data": {
            "text/plain": [
              "{'bootstrap': True,\n",
              " 'ccp_alpha': 0.0,\n",
              " 'class_weight': None,\n",
              " 'criterion': 'gini',\n",
              " 'max_depth': None,\n",
              " 'max_features': 'auto',\n",
              " 'max_leaf_nodes': None,\n",
              " 'max_samples': None,\n",
              " 'min_impurity_decrease': 0.0,\n",
              " 'min_samples_leaf': 1,\n",
              " 'min_samples_split': 2,\n",
              " 'min_weight_fraction_leaf': 0.0,\n",
              " 'n_estimators': 100,\n",
              " 'n_jobs': None,\n",
              " 'oob_score': False,\n",
              " 'random_state': None,\n",
              " 'verbose': 0,\n",
              " 'warm_start': False}"
            ]
          },
          "metadata": {},
          "execution_count": 36
        }
      ]
    },
    {
      "cell_type": "code",
      "source": [
        "# Random Forest Grid Search is Expensive\n",
        "# I have used random search first and then optimized further with Grid Search\n",
        "from sklearn.ensemble import RandomForestClassifier\n",
        "from sklearn.model_selection import GridSearchCV\n",
        "\n",
        "gs_params = {'max_depth':[8,9,10],\n",
        "              'n_estimators':[150,200,250],\n",
        "              'max_features':[7,8,9],\n",
        "              'criterion':['gini','entropy'],\n",
        "              'min_samples_leaf':[3,4,5],\n",
        "              'min_samples_split':[5,6,7,8]\n",
        "          }\n",
        "gs_cv = RandomizedSearchCV(RandomForestClassifier(), gs_params,\n",
        "                           cv= 5)\n",
        "\n",
        "# Train on training data\n",
        "gs_cv.fit(X_train, y_train)\n",
        "\n",
        "# Print the best parameters\n",
        "print(gs_cv.best_params_)"
      ],
      "metadata": {
        "colab": {
          "base_uri": "https://localhost:8080/"
        },
        "id": "0Hn7T3xLr_M-",
        "outputId": "d2b589a7-00cf-4700-d43e-5eafeb42928f"
      },
      "execution_count": 47,
      "outputs": [
        {
          "output_type": "stream",
          "name": "stdout",
          "text": [
            "{'n_estimators': 250, 'min_samples_split': 8, 'min_samples_leaf': 5, 'max_features': 9, 'max_depth': 9, 'criterion': 'entropy'}\n"
          ]
        }
      ]
    },
    {
      "cell_type": "code",
      "source": [
        "grid_pred = rs_cv.predict(X_test)\n",
        "print(\"AUROC:\", roc_auc_score(grid_pred,y_test))"
      ],
      "metadata": {
        "colab": {
          "base_uri": "https://localhost:8080/"
        },
        "id": "iR9Na801tj0-",
        "outputId": "1e777680-5909-415f-f521-890faf28ece0"
      },
      "execution_count": 48,
      "outputs": [
        {
          "output_type": "stream",
          "name": "stdout",
          "text": [
            "AUROC: 0.965424739195231\n"
          ]
        }
      ]
    },
    {
      "cell_type": "code",
      "source": [
        "# Random Forest Has The Best AUROC of 0.9654"
      ],
      "metadata": {
        "id": "ZYbPP8-amcBW"
      },
      "execution_count": 49,
      "outputs": []
    },
    {
      "cell_type": "code",
      "source": [
        "# XGBoost Random Search\n",
        "from xgboost.sklearn import XGBClassifier\n",
        "from scipy.stats import randint, uniform\n",
        "from sklearn.model_selection import RandomizedSearchCV\n",
        "\n",
        "rs_params = {'n_estimators': randint(150, 1000),\n",
        "             'learning_rate': uniform(0.01, 0.6),\n",
        "             'subsample': uniform(0.1, 0.9),\n",
        "             'max_depth':list(np.arange(2,10)),\n",
        "             'colsample_bytree': uniform(0.1, 0.9),\n",
        "             'min_child_weight': [1, 2, 3, 4]\n",
        "             }\n",
        "rs_cv = RandomizedSearchCV(XGBClassifier(), rs_params,\n",
        "                           cv= 5)\n",
        "\n",
        "# Train on training data or SMOTEEN\n",
        "rs_cv.fit(X_train, y_train)\n",
        "\n",
        "# Print the best parameters\n",
        "print(rs_cv.best_params_)"
      ],
      "metadata": {
        "colab": {
          "base_uri": "https://localhost:8080/"
        },
        "id": "tYdzOEDvw8FY",
        "outputId": "a1a021da-56cb-467b-d607-ed35279061d4"
      },
      "execution_count": 55,
      "outputs": [
        {
          "output_type": "stream",
          "name": "stdout",
          "text": [
            "{'colsample_bytree': 0.5895925575698587, 'learning_rate': 0.060694088948766524, 'max_depth': 2, 'min_child_weight': 1, 'n_estimators': 757, 'subsample': 0.4647871016990449}\n"
          ]
        }
      ]
    },
    {
      "cell_type": "code",
      "source": [
        "grid_pred = rs_cv.predict(X_test)\n",
        "print(\"AUROC:\", roc_auc_score(grid_pred,y_test))"
      ],
      "metadata": {
        "colab": {
          "base_uri": "https://localhost:8080/"
        },
        "id": "q1_R7KzRz-Jo",
        "outputId": "6422affa-00c2-4805-dbad-a5a93fa296fd"
      },
      "execution_count": 56,
      "outputs": [
        {
          "output_type": "stream",
          "name": "stdout",
          "text": [
            "AUROC: 0.9827611719443623\n"
          ]
        }
      ]
    },
    {
      "cell_type": "code",
      "source": [
        "# XGBoost has the best AUROC of 0.9827"
      ],
      "metadata": {
        "id": "dLDneOkEov3-"
      },
      "execution_count": null,
      "outputs": []
    },
    {
      "cell_type": "code",
      "source": [
        "# LGBM GridSearch\n",
        "from sklearn.model_selection import GridSearchCV\n",
        "import lightgbm as lgb\n",
        "\n",
        "gs_params = {\n",
        "        'bagging_fraction': (0.2, 0.8), #min, max\n",
        "        'bagging_frequency': (2, 8),\n",
        "        'feature_fraction': (0.2, 0.8),\n",
        "        'max_depth': list(np.arange(2,16)),\n",
        "        'min_data_in_leaf': (60, 70, 80, 90, 120),\n",
        "        'num_leaves': (800, 1000, 1200, 1550)\n",
        "}\n",
        "\n",
        "# Initialize a RandomizedSearchCV object using 5-fold CV-\n",
        "gs_cv = GridSearchCV(estimator=LGBMClassifier(), cv = 5, param_grid=gs_params)\n",
        "\n",
        "# Train on training data-\n",
        "gs_cv.fit(X_train, y_train)\n",
        "y_pred = model.predict(X_test)\n",
        "print(gs_cv.best_params_)\n",
        "print(sorted(gs_cv.cv_results_.keys()))"
      ],
      "metadata": {
        "colab": {
          "base_uri": "https://localhost:8080/"
        },
        "id": "VJ48rz-i0VwJ",
        "outputId": "85fed3af-9175-4166-8c57-4e478b171be4"
      },
      "execution_count": 52,
      "outputs": [
        {
          "output_type": "stream",
          "name": "stdout",
          "text": [
            "{'bagging_fraction': 0.2, 'bagging_frequency': 2, 'feature_fraction': 0.8, 'max_depth': 2, 'min_data_in_leaf': 90, 'num_leaves': 800}\n",
            "['mean_fit_time', 'mean_score_time', 'mean_test_score', 'param_bagging_fraction', 'param_bagging_frequency', 'param_feature_fraction', 'param_max_depth', 'param_min_data_in_leaf', 'param_num_leaves', 'params', 'rank_test_score', 'split0_test_score', 'split1_test_score', 'split2_test_score', 'split3_test_score', 'split4_test_score', 'std_fit_time', 'std_score_time', 'std_test_score']\n"
          ]
        }
      ]
    },
    {
      "cell_type": "code",
      "source": [
        "grid_pred = gs_cv.predict(X_test)\n",
        "print(\"AUROC:\", roc_auc_score(grid_pred,y_test))"
      ],
      "metadata": {
        "colab": {
          "base_uri": "https://localhost:8080/"
        },
        "id": "bDWJVyYO1ADv",
        "outputId": "409aa5b0-3026-4ba4-d1bf-afc29c010c22"
      },
      "execution_count": 54,
      "outputs": [
        {
          "output_type": "stream",
          "name": "stdout",
          "text": [
            "AUROC: 0.9701094998520272\n"
          ]
        }
      ]
    },
    {
      "cell_type": "code",
      "source": [
        "# LGBM has the best AUROC of 0.9701"
      ],
      "metadata": {
        "id": "_xV4WWpDmtRt"
      },
      "execution_count": null,
      "outputs": []
    },
    {
      "cell_type": "code",
      "source": [
        "#Conclusion:\n",
        "# 1. Initial dataset contains 569 rows and each data has 30 features and and a target \n",
        "# 2. No, null or missing values noticed\n",
        "# 3. 63% data belongs to the benign class and 37% data belongs to the malignant class\n",
        "# 4. I have used Bar plot as well as Chi2 test to select 17 important features out of 30\n",
        "# 5. Dataset was then splitted into train and test groups\n",
        "# 6. Initially have used 11 classification models to comapre the performaces\n",
        "# 7. Based on AUROC score, selected SVC, RandomForestClassifier and XGBoost as they have very high AUROC score\n",
        "# 8. Used RandomSearchCV and GridSearchCV to further optimize the model performance\n",
        "# 9. Finally have chosen XGBoost model with AUROC= 0.9828\n"
      ],
      "metadata": {
        "id": "Sh809aRTpJnw"
      },
      "execution_count": null,
      "outputs": []
    }
  ]
}